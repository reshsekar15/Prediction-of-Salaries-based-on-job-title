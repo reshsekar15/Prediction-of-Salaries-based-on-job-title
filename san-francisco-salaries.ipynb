{"cells":[
 {
  "cell_type": "code",
  "execution_count": null,
  "metadata": {
   "collapsed": true
  },
  "outputs": [],
  "source": "%matplotlib inline"
 },
 {
  "cell_type": "code",
  "execution_count": null,
  "metadata": {
   "collapsed": false
  },
  "outputs": [],
  "source": "from pandas import Series,DataFrame\nimport pandas as pd\n%matplotlib inline\nimport nltk as nl\nsalaries=pd.read_csv(\"../input/Salaries.csv\")"
 },
 {
  "cell_type": "code",
  "execution_count": null,
  "metadata": {
   "collapsed": false
  },
  "outputs": [],
  "source": "salaries.head()\n# There are many features that won't be very useful in our prediction. We can remove this.\nsalaries=salaries.drop(['Status','Benefits','Notes','Agency','EmployeeName'],axis=1)"
 },
 {
  "cell_type": "markdown",
  "metadata": {},
  "source": "Let us do some visualization and data pre-processing now"
 },
 {
  "cell_type": "code",
  "execution_count": null,
  "metadata": {
   "collapsed": false
  },
  "outputs": [],
  "source": "#if we observe the dataset, there are rows where no job title is provided. We need to remove this.\n#We also need to remove rows where TotalPayment values do not exist -( They contain 0 values )\nsalaries=salaries[salaries['JobTitle']!='Not provided']\nsalaries=salaries[salaries['TotalPayBenefits']!=0.00]\nsalaries['TotalPayBenefits']=salaries['TotalPayBenefits']-salaries['TotalPay']"
 },
 {
  "cell_type": "code",
  "execution_count": null,
  "metadata": {
   "collapsed": false
  },
  "outputs": [],
  "source": "salaries=salaries[salaries['TotalPay']>=0]       \n#removing negative salaries\n"
 },
 {
  "cell_type": "code",
  "execution_count": null,
  "metadata": {
   "collapsed": false
  },
  "outputs": [],
  "source": "# How many job titles are there? Can we use these key words in job titles to predict their salaries? \nsalaries['JobTitle'].value_counts()[:20].plot(kind='bar')"
 },
 {
  "cell_type": "code",
  "execution_count": null,
  "metadata": {
   "collapsed": false
  },
  "outputs": [],
  "source": "#From the above it looks like each job has multiple rows. \nsalaries['JobTitle'].value_counts().count()\n#In total there are 1109 unique jobs"
 },
 {
  "cell_type": "markdown",
  "metadata": {},
  "source": "The idea is to use all the key words in the job title to predict the salary. Say all 'managers' would have a \nhigher salary range. Therefore, we need to convert this into a bag of words model before we proceed with modeling"
 },
 {
  "cell_type": "code",
  "execution_count": null,
  "metadata": {
   "collapsed": false
  },
  "outputs": [],
  "source": "jobnames=salaries['JobTitle']\nfrom nltk.tokenize import RegexpTokenizer\ntokenizer = RegexpTokenizer(r'\\w+')\nwordsinjobs=\"\"\nfor word in jobnames:\n    wordsinjobs=wordsinjobs+word\ntokens=tokenizer.tokenize(wordsinjobs)\nimport numpy as np\nfrom sklearn.feature_extraction.text import CountVectorizer\nvectorizer=CountVectorizer(tokens)\ndtm=vectorizer.fit_transform(salaries['JobTitle'])"
 },
 {
  "cell_type": "code",
  "execution_count": null,
  "metadata": {
   "collapsed": false
  },
  "outputs": [],
  "source": "from sklearn.cross_validation import train_test_split\nX_train,X_test,Y_train,Y_test=train_test_split(dtm,salaries['TotalPay'],test_size=0.33,random_state=42)"
 },
 {
  "cell_type": "code",
  "execution_count": null,
  "metadata": {
   "collapsed": false
  },
  "outputs": [],
  "source": "# Let us try a linear model\nfrom sklearn.linear_model import LinearRegression\nregr=LinearRegression()\nlm=regr.fit(X_train,Y_train)\npredy=lm.predict(X_test)\nimport math\nMSE=(predy-Y_test)*(predy-Y_test)\nMSE=MSE.mean()\nMSE=math.sqrt(MSE)\nMSE"
 },
 {
  "cell_type": "code",
  "execution_count": null,
  "metadata": {
   "collapsed": false
  },
  "outputs": [],
  "source": "from sklearn.metrics import r2_score\nr2_score(predy,Y_test)"
 },
 {
  "cell_type": "markdown",
  "metadata": {},
  "source": "From the above test erro and R Squared value we can see that Linear Regression does not give a good fit to our data.\nTherefore, we need to try better modeling techniques. "
 }
],"metadata":{"kernelspec":{"display_name":"Python 3","language":"python","name":"python3"}}, "nbformat": 4, "nbformat_minor": 0}